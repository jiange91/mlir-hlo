{
 "cells": [
  {
   "cell_type": "code",
   "execution_count": 1,
   "id": "e894d891",
   "metadata": {},
   "outputs": [],
   "source": [
    "import torch\n",
    "from torch import nn\n",
    "from torch.utils.data import DataLoader\n",
    "from torchvision import datasets\n",
    "from torchvision.transforms import ToTensor\n",
    "\n",
    "import torch_mlir"
   ]
  },
  {
   "cell_type": "code",
   "execution_count": 2,
   "id": "d876a409",
   "metadata": {},
   "outputs": [],
   "source": [
    "# Download training data from open datasets.\n",
    "training_data = datasets.FashionMNIST(\n",
    "    root=\"data\",\n",
    "    train=True,\n",
    "    download=True,\n",
    "    transform=ToTensor(),\n",
    ")\n",
    "\n",
    "# Download test data from open datasets.\n",
    "test_data = datasets.FashionMNIST(\n",
    "    root=\"data\",\n",
    "    train=False,\n",
    "    download=True,\n",
    "    transform=ToTensor(),\n",
    ")"
   ]
  },
  {
   "cell_type": "code",
   "execution_count": 3,
   "id": "98137e95",
   "metadata": {},
   "outputs": [
    {
     "name": "stdout",
     "output_type": "stream",
     "text": [
      "Shape of X [N, C, H, W]: torch.Size([64, 1, 28, 28]) torch.float32\n",
      "Shape of y: torch.Size([64]) torch.int64\n"
     ]
    }
   ],
   "source": [
    "batch_size = 64\n",
    "\n",
    "# Create data loaders.\n",
    "train_dataloader = DataLoader(training_data, batch_size=batch_size)\n",
    "test_dataloader = DataLoader(test_data, batch_size=batch_size)\n",
    "\n",
    "for X, y in test_dataloader:\n",
    "    print(f\"Shape of X [N, C, H, W]: {X.shape} {X.dtype}\")\n",
    "    print(f\"Shape of y: {y.shape} {y.dtype}\")\n",
    "    break"
   ]
  },
  {
   "cell_type": "code",
   "execution_count": 16,
   "id": "3452eb49",
   "metadata": {},
   "outputs": [
    {
     "name": "stdout",
     "output_type": "stream",
     "text": [
      "Using cpu device\n",
      "FashionCNN(\n",
      "  (layer1): Sequential(\n",
      "    (0): Conv2d(1, 32, kernel_size=(3, 3), stride=(1, 1), padding=(1, 1))\n",
      "    (1): BatchNorm2d(32, eps=1e-05, momentum=0.1, affine=True, track_running_stats=True)\n",
      "    (2): ReLU()\n",
      "    (3): MaxPool2d(kernel_size=2, stride=2, padding=0, dilation=1, ceil_mode=False)\n",
      "  )\n",
      "  (layer2): Sequential(\n",
      "    (0): Conv2d(32, 64, kernel_size=(3, 3), stride=(1, 1))\n",
      "    (1): BatchNorm2d(64, eps=1e-05, momentum=0.1, affine=True, track_running_stats=True)\n",
      "    (2): ReLU()\n",
      "    (3): MaxPool2d(kernel_size=2, stride=2, padding=0, dilation=1, ceil_mode=False)\n",
      "  )\n",
      "  (fc1): Linear(in_features=2304, out_features=600, bias=True)\n",
      "  (drop): Dropout2d(p=0.25, inplace=False)\n",
      "  (fc2): Linear(in_features=600, out_features=120, bias=True)\n",
      "  (fc3): Linear(in_features=120, out_features=10, bias=True)\n",
      ")\n"
     ]
    }
   ],
   "source": [
    "# Get cpu or gpu device for training.\n",
    "device = \"cuda\" if torch.cuda.is_available() else \"mps\" if torch.backends.mps.is_available() else \"cpu\"\n",
    "print(f\"Using {device} device\")\n",
    "\n",
    "# Define model\n",
    "class NeuralNetwork(nn.Module):\n",
    "    def __init__(self):\n",
    "        super().__init__()\n",
    "        self.flatten = nn.Flatten()\n",
    "        self.linear_relu_stack = nn.Sequential(\n",
    "            nn.Linear(28*28, 128),\n",
    "            nn.ReLU(),\n",
    "            nn.Linear(128, 10)\n",
    "        )\n",
    "\n",
    "    def forward(self, x):\n",
    "        x = self.flatten(x)\n",
    "        logits = self.linear_relu_stack(x)\n",
    "        return logits\n",
    "\n",
    "model = NeuralNetwork().to(device)\n",
    "print(model)"
   ]
  },
  {
   "cell_type": "code",
   "execution_count": 17,
   "id": "1682038f",
   "metadata": {},
   "outputs": [],
   "source": [
    "loss_fn = nn.CrossEntropyLoss()\n",
    "optimizer = torch.optim.Adam(model.parameters(), lr=1e-3)"
   ]
  },
  {
   "cell_type": "code",
   "execution_count": 18,
   "id": "6fdaac01",
   "metadata": {},
   "outputs": [],
   "source": [
    "def train(dataloader, model, loss_fn, optimizer):\n",
    "    size = len(dataloader.dataset)\n",
    "    model.train()\n",
    "    for batch, (X, y) in enumerate(dataloader):\n",
    "        X, y = X.to(device), y.to(device)\n",
    "\n",
    "        # Compute prediction error\n",
    "        pred = model(X)\n",
    "        loss = loss_fn(pred, y)\n",
    "\n",
    "        # Backpropagation\n",
    "        optimizer.zero_grad()\n",
    "        loss.backward()\n",
    "        optimizer.step()\n",
    "\n",
    "        if batch % 100 == 0:\n",
    "            loss, current = loss.item(), batch * len(X)\n",
    "            print(f\"loss: {loss:>7f}  [{current:>5d}/{size:>5d}]\")"
   ]
  },
  {
   "cell_type": "code",
   "execution_count": 19,
   "id": "8afcc1ad",
   "metadata": {},
   "outputs": [],
   "source": [
    "def test(dataloader, model, loss_fn):\n",
    "    size = len(dataloader.dataset)\n",
    "    num_batches = len(dataloader)\n",
    "    model.eval()\n",
    "    test_loss, correct = 0, 0\n",
    "    with torch.no_grad():\n",
    "        for X, y in dataloader:\n",
    "            X, y = X.to(device), y.to(device)\n",
    "            pred = model(X)\n",
    "            test_loss += loss_fn(pred, y).item()\n",
    "            correct += (pred.argmax(1) == y).type(torch.float).sum().item()\n",
    "    test_loss /= num_batches\n",
    "    correct /= size\n",
    "    print(f\"Test Error: \\n Accuracy: {(100*correct):>0.1f}%, Avg loss: {test_loss:>8f} \\n\")"
   ]
  },
  {
   "cell_type": "code",
   "execution_count": 20,
   "id": "bde2301b",
   "metadata": {},
   "outputs": [
    {
     "name": "stdout",
     "output_type": "stream",
     "text": [
      "Epoch 1\n",
      "-------------------------------\n"
     ]
    },
    {
     "name": "stderr",
     "output_type": "stream",
     "text": [
      "/users/Zijian/anaconda3/envs/torch-mlir/lib/python3.10/site-packages/torch/nn/functional.py:1331: UserWarning: dropout2d: Received a 2-D input to dropout2d, which is deprecated and will result in an error in a future release. To retain the behavior and silence this warning, please use dropout instead. Note that dropout2d exists to provide channel-wise dropout on inputs with 2 spatial dimensions, a channel dimension, and an optional batch dimension (i.e. 3D or 4D inputs).\n",
      "  warnings.warn(warn_msg)\n"
     ]
    },
    {
     "name": "stdout",
     "output_type": "stream",
     "text": [
      "loss: 2.296180  [    0/60000]\n",
      "loss: 0.438110  [ 6400/60000]\n",
      "loss: 0.277206  [12800/60000]\n",
      "loss: 0.433672  [19200/60000]\n",
      "loss: 0.407490  [25600/60000]\n",
      "loss: 0.480806  [32000/60000]\n",
      "loss: 0.271652  [38400/60000]\n",
      "loss: 0.560134  [44800/60000]\n",
      "loss: 0.347951  [51200/60000]\n",
      "loss: 0.280700  [57600/60000]\n",
      "Test Error: \n",
      " Accuracy: 85.8%, Avg loss: 0.380556 \n",
      "\n",
      "Epoch 2\n",
      "-------------------------------\n",
      "loss: 0.197457  [    0/60000]\n",
      "loss: 0.312832  [ 6400/60000]\n",
      "loss: 0.173363  [12800/60000]\n",
      "loss: 0.412405  [19200/60000]\n",
      "loss: 0.377850  [25600/60000]\n",
      "loss: 0.450978  [32000/60000]\n",
      "loss: 0.265583  [38400/60000]\n",
      "loss: 0.488058  [44800/60000]\n",
      "loss: 0.284444  [51200/60000]\n",
      "loss: 0.271193  [57600/60000]\n",
      "Test Error: \n",
      " Accuracy: 89.2%, Avg loss: 0.314081 \n",
      "\n",
      "Epoch 3\n",
      "-------------------------------\n",
      "loss: 0.155544  [    0/60000]\n",
      "loss: 0.322372  [ 6400/60000]\n",
      "loss: 0.184174  [12800/60000]\n",
      "loss: 0.343194  [19200/60000]\n",
      "loss: 0.288720  [25600/60000]\n",
      "loss: 0.405726  [32000/60000]\n",
      "loss: 0.232796  [38400/60000]\n",
      "loss: 0.335829  [44800/60000]\n",
      "loss: 0.273855  [51200/60000]\n",
      "loss: 0.228211  [57600/60000]\n",
      "Test Error: \n",
      " Accuracy: 89.0%, Avg loss: 0.309537 \n",
      "\n",
      "Epoch 4\n",
      "-------------------------------\n",
      "loss: 0.156485  [    0/60000]\n",
      "loss: 0.308859  [ 6400/60000]\n",
      "loss: 0.161690  [12800/60000]\n",
      "loss: 0.219655  [19200/60000]\n",
      "loss: 0.288848  [25600/60000]\n",
      "loss: 0.373542  [32000/60000]\n",
      "loss: 0.224684  [38400/60000]\n",
      "loss: 0.350741  [44800/60000]\n",
      "loss: 0.232144  [51200/60000]\n",
      "loss: 0.176391  [57600/60000]\n",
      "Test Error: \n",
      " Accuracy: 88.8%, Avg loss: 0.317989 \n",
      "\n",
      "Epoch 5\n",
      "-------------------------------\n",
      "loss: 0.144676  [    0/60000]\n",
      "loss: 0.283925  [ 6400/60000]\n",
      "loss: 0.189826  [12800/60000]\n",
      "loss: 0.186401  [19200/60000]\n",
      "loss: 0.232995  [25600/60000]\n",
      "loss: 0.345605  [32000/60000]\n",
      "loss: 0.192968  [38400/60000]\n",
      "loss: 0.372617  [44800/60000]\n",
      "loss: 0.250394  [51200/60000]\n",
      "loss: 0.172313  [57600/60000]\n",
      "Test Error: \n",
      " Accuracy: 88.6%, Avg loss: 0.328132 \n",
      "\n",
      "Done!\n"
     ]
    }
   ],
   "source": [
    "epochs = 5\n",
    "for t in range(epochs):\n",
    "    print(f\"Epoch {t+1}\\n-------------------------------\")\n",
    "    train(train_dataloader, model, loss_fn, optimizer)\n",
    "    test(test_dataloader, model, loss_fn)\n",
    "print(\"Done!\")"
   ]
  },
  {
   "cell_type": "code",
   "execution_count": 21,
   "id": "d8b101df",
   "metadata": {},
   "outputs": [
    {
     "ename": "TorchMlirCompilerError",
     "evalue": "Lowering TorchScript IR -> Torch Backend IR failed with the following diagnostics:\nerror: unsupported by backend contract: tensor with unknown rank\nnote: see current operation: %50 = \"torch.tensor_static_info_cast\"(%49) : (!torch.vtensor<[64,600],f32>) -> !torch.vtensor<*,f32>\nnote: this is likely due to a missing transfer function in abstract_interp_lib_gen.py\n\n\nFor Torch-MLIR developers, the error can be reproduced with:\n$ torch-mlir-opt -pass-pipeline='builtin.module(torchscript-module-to-torch-backend-pipeline{backend-legal-ops=})' /tmp/FashionCNN.mlir\nAdd '-mlir-print-ir-after-all -mlir-disable-threading' to get the IR dump for debugging purpose.\n",
     "output_type": "error",
     "traceback": [
      "\u001b[0;31m---------------------------------------------------------------------------\u001b[0m",
      "\u001b[0;31mTorchMlirCompilerError\u001b[0m                    Traceback (most recent call last)",
      "Cell \u001b[0;32mIn[21], line 4\u001b[0m\n\u001b[1;32m      1\u001b[0m out_stablehlo_mlir_path \u001b[38;5;241m=\u001b[39m \u001b[38;5;124m\"\u001b[39m\u001b[38;5;124m./mlir-models/torch-fmnist.mlir\u001b[39m\u001b[38;5;124m\"\u001b[39m\n\u001b[1;32m      3\u001b[0m TInput \u001b[38;5;241m=\u001b[39m torch_mlir\u001b[38;5;241m.\u001b[39mTensorPlaceholder([\u001b[38;5;241m64\u001b[39m, \u001b[38;5;241m1\u001b[39m, \u001b[38;5;241m28\u001b[39m, \u001b[38;5;241m28\u001b[39m], torch\u001b[38;5;241m.\u001b[39mfloat32)\n\u001b[0;32m----> 4\u001b[0m module \u001b[38;5;241m=\u001b[39m \u001b[43mtorch_mlir\u001b[49m\u001b[38;5;241;43m.\u001b[39;49m\u001b[43mcompile\u001b[49m\u001b[43m(\u001b[49m\u001b[43mmodel\u001b[49m\u001b[43m,\u001b[49m\u001b[43m \u001b[49m\u001b[43mTInput\u001b[49m\u001b[43m,\u001b[49m\u001b[43m \u001b[49m\u001b[43moutput_type\u001b[49m\u001b[38;5;241;43m=\u001b[39;49m\u001b[43mtorch_mlir\u001b[49m\u001b[38;5;241;43m.\u001b[39;49m\u001b[43mOutputType\u001b[49m\u001b[38;5;241;43m.\u001b[39;49m\u001b[43mSTABLEHLO\u001b[49m\u001b[43m,\u001b[49m\u001b[43m \u001b[49m\u001b[43muse_tracing\u001b[49m\u001b[38;5;241;43m=\u001b[39;49m\u001b[38;5;28;43;01mFalse\u001b[39;49;00m\u001b[43m)\u001b[49m\n\u001b[1;32m      5\u001b[0m \u001b[38;5;28;01mwith\u001b[39;00m \u001b[38;5;28mopen\u001b[39m(out_stablehlo_mlir_path, \u001b[38;5;124m\"\u001b[39m\u001b[38;5;124mw\u001b[39m\u001b[38;5;124m\"\u001b[39m, encoding\u001b[38;5;241m=\u001b[39m\u001b[38;5;124m\"\u001b[39m\u001b[38;5;124mutf-8\u001b[39m\u001b[38;5;124m\"\u001b[39m) \u001b[38;5;28;01mas\u001b[39;00m outf:\n\u001b[1;32m      6\u001b[0m     outf\u001b[38;5;241m.\u001b[39mwrite(\u001b[38;5;28mstr\u001b[39m(module))\n",
      "File \u001b[0;32m~/anaconda3/envs/torch-mlir/lib/python3.10/site-packages/torch_mlir/__init__.py:371\u001b[0m, in \u001b[0;36mcompile\u001b[0;34m(model, example_args, output_type, use_tracing, ignore_traced_shapes, backend_legal_ops, verbose)\u001b[0m\n\u001b[1;32m    368\u001b[0m     \u001b[38;5;28;01mreturn\u001b[39;00m mb\u001b[38;5;241m.\u001b[39mmodule\n\u001b[1;32m    370\u001b[0m option_string \u001b[38;5;241m=\u001b[39m \u001b[38;5;124m\"\u001b[39m\u001b[38;5;124m{\u001b[39m\u001b[38;5;124mbackend-legal-ops=\u001b[39m\u001b[38;5;124m\"\u001b[39m \u001b[38;5;241m+\u001b[39m \u001b[38;5;124m\"\u001b[39m\u001b[38;5;124m,\u001b[39m\u001b[38;5;124m\"\u001b[39m\u001b[38;5;241m.\u001b[39mjoin(backend_legal_ops) \u001b[38;5;241m+\u001b[39m \u001b[38;5;124m\"\u001b[39m\u001b[38;5;124m}\u001b[39m\u001b[38;5;124m\"\u001b[39m\n\u001b[0;32m--> 371\u001b[0m \u001b[43mrun_pipeline_with_repro_report\u001b[49m\u001b[43m(\u001b[49m\n\u001b[1;32m    372\u001b[0m \u001b[43m    \u001b[49m\u001b[43mmb\u001b[49m\u001b[38;5;241;43m.\u001b[39;49m\u001b[43mmodule\u001b[49m\u001b[43m,\u001b[49m\n\u001b[1;32m    373\u001b[0m \u001b[43m    \u001b[49m\u001b[38;5;124;43mf\u001b[39;49m\u001b[38;5;124;43m\"\u001b[39;49m\u001b[38;5;124;43mbuiltin.module(torchscript-module-to-torch-backend-pipeline\u001b[39;49m\u001b[38;5;132;43;01m{\u001b[39;49;00m\u001b[43moption_string\u001b[49m\u001b[38;5;132;43;01m}\u001b[39;49;00m\u001b[38;5;124;43m)\u001b[39;49m\u001b[38;5;124;43m\"\u001b[39;49m\u001b[43m,\u001b[49m\n\u001b[1;32m    374\u001b[0m \u001b[43m    \u001b[49m\u001b[38;5;124;43m\"\u001b[39;49m\u001b[38;5;124;43mLowering TorchScript IR -> Torch Backend IR\u001b[39;49m\u001b[38;5;124;43m\"\u001b[39;49m\u001b[43m,\u001b[49m\n\u001b[1;32m    375\u001b[0m \u001b[43m\u001b[49m\u001b[43m)\u001b[49m\n\u001b[1;32m    377\u001b[0m \u001b[38;5;28;01mif\u001b[39;00m verbose:\n\u001b[1;32m    378\u001b[0m     \u001b[38;5;28mprint\u001b[39m(\u001b[38;5;124m\"\u001b[39m\u001b[38;5;130;01m\\n\u001b[39;00m\u001b[38;5;124m====================\u001b[39m\u001b[38;5;124m\"\u001b[39m)\n",
      "File \u001b[0;32m~/anaconda3/envs/torch-mlir/lib/python3.10/site-packages/torch_mlir/compiler_utils.py:73\u001b[0m, in \u001b[0;36mrun_pipeline_with_repro_report\u001b[0;34m(module, pipeline, description)\u001b[0m\n\u001b[1;32m     64\u001b[0m     message \u001b[38;5;241m=\u001b[39m \u001b[38;5;124mf\u001b[39m\u001b[38;5;124m\"\"\"\u001b[39m\u001b[38;5;130;01m\\\u001b[39;00m\n\u001b[1;32m     65\u001b[0m \u001b[38;5;124m        \u001b[39m\u001b[38;5;132;01m{\u001b[39;00mdescription\u001b[38;5;132;01m}\u001b[39;00m\u001b[38;5;124m failed with the following diagnostics:\u001b[39m\n\u001b[1;32m     66\u001b[0m \u001b[38;5;124m        \u001b[39m\u001b[38;5;132;01m{\u001b[39;00msys\u001b[38;5;241m.\u001b[39mstderr\u001b[38;5;241m.\u001b[39mgetvalue()\u001b[38;5;132;01m}\u001b[39;00m\n\u001b[0;32m   (...)\u001b[0m\n\u001b[1;32m     70\u001b[0m \u001b[38;5;124m        Add \u001b[39m\u001b[38;5;124m'\u001b[39m\u001b[38;5;132;01m{\u001b[39;00mdebug_options\u001b[38;5;132;01m}\u001b[39;00m\u001b[38;5;124m'\u001b[39m\u001b[38;5;124m to get the IR dump for debugging purpose.\u001b[39m\n\u001b[1;32m     71\u001b[0m \u001b[38;5;124m        \u001b[39m\u001b[38;5;124m\"\"\"\u001b[39m\n\u001b[1;32m     72\u001b[0m     trimmed_message \u001b[38;5;241m=\u001b[39m \u001b[38;5;124m'\u001b[39m\u001b[38;5;130;01m\\n\u001b[39;00m\u001b[38;5;124m'\u001b[39m\u001b[38;5;241m.\u001b[39mjoin([m\u001b[38;5;241m.\u001b[39mlstrip() \u001b[38;5;28;01mfor\u001b[39;00m m \u001b[38;5;129;01min\u001b[39;00m message\u001b[38;5;241m.\u001b[39msplit(\u001b[38;5;124m'\u001b[39m\u001b[38;5;130;01m\\n\u001b[39;00m\u001b[38;5;124m'\u001b[39m)])\n\u001b[0;32m---> 73\u001b[0m     \u001b[38;5;28;01mraise\u001b[39;00m TorchMlirCompilerError(trimmed_message) \u001b[38;5;28;01mfrom\u001b[39;00m \u001b[38;5;28mNone\u001b[39m\n\u001b[1;32m     74\u001b[0m \u001b[38;5;28;01mfinally\u001b[39;00m:\n\u001b[1;32m     75\u001b[0m     sys\u001b[38;5;241m.\u001b[39mstderr \u001b[38;5;241m=\u001b[39m original_stderr\n",
      "\u001b[0;31mTorchMlirCompilerError\u001b[0m: Lowering TorchScript IR -> Torch Backend IR failed with the following diagnostics:\nerror: unsupported by backend contract: tensor with unknown rank\nnote: see current operation: %50 = \"torch.tensor_static_info_cast\"(%49) : (!torch.vtensor<[64,600],f32>) -> !torch.vtensor<*,f32>\nnote: this is likely due to a missing transfer function in abstract_interp_lib_gen.py\n\n\nFor Torch-MLIR developers, the error can be reproduced with:\n$ torch-mlir-opt -pass-pipeline='builtin.module(torchscript-module-to-torch-backend-pipeline{backend-legal-ops=})' /tmp/FashionCNN.mlir\nAdd '-mlir-print-ir-after-all -mlir-disable-threading' to get the IR dump for debugging purpose.\n"
     ]
    }
   ],
   "source": [
    "out_stablehlo_mlir_path = \"./mlir-models/torch-fmnist.mlir\"\n",
    "\n",
    "TInput = torch_mlir.TensorPlaceholder([64, 1, 28, 28], torch.float32)\n",
    "module = torch_mlir.compile(model, TInput, output_type=torch_mlir.OutputType.STABLEHLO, use_tracing=False)\n",
    "with open(out_stablehlo_mlir_path, \"w\", encoding=\"utf-8\") as outf:\n",
    "    outf.write(str(module))"
   ]
  },
  {
   "cell_type": "code",
   "execution_count": null,
   "id": "e5055303",
   "metadata": {},
   "outputs": [],
   "source": []
  }
 ],
 "metadata": {
  "kernelspec": {
   "display_name": "Python 3 (ipykernel)",
   "language": "python",
   "name": "python3"
  },
  "language_info": {
   "codemirror_mode": {
    "name": "ipython",
    "version": 3
   },
   "file_extension": ".py",
   "mimetype": "text/x-python",
   "name": "python",
   "nbconvert_exporter": "python",
   "pygments_lexer": "ipython3",
   "version": "3.10.9"
  }
 },
 "nbformat": 4,
 "nbformat_minor": 5
}
